{
 "cells": [
  {
   "cell_type": "code",
   "execution_count": 15,
   "metadata": {},
   "outputs": [],
   "source": [
    "import os\n",
    "import torch\n",
    "import torchvision\n",
    "from skimage import io\n",
    "from PIL import Image\n",
    "import numpy as np\n",
    "import pandas as pd\n",
    "\n",
    "import matplotlib.pyplot as plt\n",
    "from torch.utils.data import DataLoader, Dataset\n",
    "\n",
    "from database_functions.databasereader import DatabaseReader"
   ]
  },
  {
   "cell_type": "code",
   "execution_count": 7,
   "metadata": {},
   "outputs": [],
   "source": [
    "db_reader = DatabaseReader('crepcheque')\n",
    "\n",
    "get_images_query = \"\"\"SELECT\n",
    "                            r.crep_id,\n",
    "                            r.raw_brand_text,\n",
    "                            i.image_id,\n",
    "                            i.image_type,\n",
    "                            i.image_file_path\n",
    "                        FROM raw_creps r\n",
    "                        LEFT JOIN\n",
    "                            images i\n",
    "                            ON r.crep_id = i.crep_id\n",
    "\n",
    "                        WHERE\n",
    "                            r.images IS NOT NULL\n",
    "                            AND r.images_processed = true\n",
    "                            AND i.image_downloaded = true\n",
    "                        \"\"\"\n",
    "\n",
    "sneaker_images = db_reader.send_query(query=get_images_query, return_as_df=True)"
   ]
  },
  {
   "cell_type": "code",
   "execution_count": 8,
   "metadata": {
    "scrolled": true
   },
   "outputs": [
    {
     "data": {
      "text/plain": [
       "(328852, 5)"
      ]
     },
     "execution_count": 8,
     "metadata": {},
     "output_type": "execute_result"
    }
   ],
   "source": [
    "sneaker_images.shape"
   ]
  },
  {
   "cell_type": "code",
   "execution_count": 3,
   "metadata": {},
   "outputs": [],
   "source": [
    "# img_names = [\"../dissertation_old/data/barry_data/\" + filename for filename in os.listdir(\"../dissertation_old/data/barry_data/\")[:20]]\n",
    "\n",
    "# test_df = pd.DataFrame([img_names, [i for i in range(20)]]).T\n",
    "# test_df.columns = [\"img_name\",\"label\"]"
   ]
  },
  {
   "cell_type": "code",
   "execution_count": 6,
   "metadata": {},
   "outputs": [],
   "source": [
    "class ShoeDataSet(Dataset):\n",
    "    \n",
    "    def __init__(self, data_df, transform = None):\n",
    "        \n",
    "        self.data_df = data_df\n",
    "        self.transform = transform\n",
    "    \n",
    "    def __len__(self):\n",
    "        return len(self.data_df)\n",
    "    \n",
    "    def __getitem__(self, idx):\n",
    "        \n",
    "        if torch.is_tensor(idx):\n",
    "            idx = idx.tolist()\n",
    "    \n",
    "        \n",
    "        img_name = self.data_df.iloc[idx, 4] \n",
    "\n",
    "        image = Image.open(img_name)\n",
    "        print(\"PIL size\", image.size)\n",
    "        arr_img = np.array(image)\n",
    "        print(\"np size\", arr_img.shape)\n",
    "        label = self.data_df.iloc[idx, 1]\n",
    "\n",
    "        \n",
    "        sample  ={\"image\":image, \"label\":label}\n",
    "\n",
    "        \n",
    "        if self.transform:\n",
    "            image,label = sample[\"image\"],sample[\"label\"]\n",
    "            image = self.transform(image)\n",
    "        image = np.array(image)\n",
    "        print(\"last arr shape\", image.shape)\n",
    "        sample = {\"image\":image, \"label\":label, \"file_name\":img_name}\n",
    "\n",
    "        return sample\n",
    "        "
   ]
  },
  {
   "cell_type": "code",
   "execution_count": 189,
   "metadata": {},
   "outputs": [],
   "source": [
    "\"\"\"\n",
    "1) transorms\n",
    "2) totensor\n",
    "3) normalize\n",
    "4) scale\n",
    "\n",
    "\"\"\";"
   ]
  },
  {
   "cell_type": "code",
   "execution_count": 11,
   "metadata": {},
   "outputs": [],
   "source": [
    "\"\"\"\n",
    "\n",
    "CALCULATE DATASET MEAN AND STD\n",
    "\n",
    "\"\"\"\n",
    "\n",
    "trans = torchvision.transforms.Compose([\n",
    "    torchvision.transforms.Resize((500,300)),\n",
    "    torchvision.transforms.ToTensor(),\n",
    "\n",
    "#     torchvision.transforms.Normalize()\n",
    "])"
   ]
  },
  {
   "cell_type": "code",
   "execution_count": 12,
   "metadata": {},
   "outputs": [],
   "source": [
    "shoe_set = ShoeDataSet(sneaker_images, transform=trans)"
   ]
  },
  {
   "cell_type": "code",
   "execution_count": 17,
   "metadata": {},
   "outputs": [
    {
     "data": {
      "text/plain": [
       "Nike           161895\n",
       "Jordan          61191\n",
       "adidas          53898\n",
       "Vans             8231\n",
       "New Balance      7040\n",
       "                ...  \n",
       "Superga             1\n",
       "Bait                1\n",
       "Columbia            1\n",
       "Pony                1\n",
       "Crocs               1\n",
       "Name: raw_brand_text, Length: 112, dtype: int64"
      ]
     },
     "execution_count": 17,
     "metadata": {},
     "output_type": "execute_result"
    }
   ],
   "source": [
    "sneaker_images.raw_brand_text.value_counts()"
   ]
  },
  {
   "cell_type": "code",
   "execution_count": 13,
   "metadata": {},
   "outputs": [],
   "source": [
    "test_loader = DataLoader(shoe_set, shuffle=True, batch_size = 2)"
   ]
  },
  {
   "cell_type": "code",
   "execution_count": 16,
   "metadata": {
    "scrolled": true
   },
   "outputs": [
    {
     "name": "stdout",
     "output_type": "stream",
     "text": [
      "PIL size (1170, 781)\n",
      "np size (781, 1170, 3)\n",
      "last arr shape (3, 500, 300)\n",
      "PIL size (1170, 781)\n",
      "np size (781, 1170, 3)\n",
      "last arr shape (3, 500, 300)\n",
      "['/home/max/hdd-data1/images/original/11286-115787-original.jpg', '/home/max/hdd-data1/images/original/20300-207308-original.jpg']\n",
      "PIL size (1170, 779)\n",
      "np size (779, 1170, 3)\n",
      "last arr shape (3, 500, 300)\n",
      "PIL size (1170, 780)\n",
      "np size (780, 1170, 3)\n",
      "last arr shape (3, 500, 300)\n",
      "['/home/max/hdd-data1/images/original/32354-328584-original.jpg', '/home/max/hdd-data1/images/original/11711-120447-original.jpg']\n",
      "PIL size (1170, 780)\n",
      "np size (780, 1170, 3)\n",
      "last arr shape (3, 500, 300)\n",
      "PIL size (1170, 781)\n",
      "np size (781, 1170, 3)\n",
      "last arr shape (3, 500, 300)\n",
      "['/home/max/hdd-data1/images/original/12253-126260-original.jpg', '/home/max/hdd-data1/images/original/1996-20089-original.jpg']\n",
      "PIL size (1170, 517)\n",
      "np size (517, 1170, 3)\n",
      "last arr shape (3, 500, 300)\n",
      "PIL size (1170, 780)\n",
      "np size (780, 1170, 3)\n",
      "last arr shape (3, 500, 300)\n",
      "['/home/max/hdd-data1/images/original/17746-180459-original.jpg', '/home/max/hdd-data1/images/original/5195-52050-original.jpg']\n",
      "PIL size (1170, 780)\n",
      "np size (780, 1170, 3)\n",
      "last arr shape (3, 500, 300)\n",
      "PIL size (1170, 781)\n",
      "np size (781, 1170, 3)\n",
      "last arr shape (3, 500, 300)\n",
      "['/home/max/hdd-data1/images/original/8740-88886-original.jpg', '/home/max/hdd-data1/images/original/21541-220977-original.jpg']\n"
     ]
    },
    {
     "data": {
      "image/png": "[encoded data removed]",
      "text/plain": [
       "<Figure size 432x288 with 1 Axes>"
      ]
     },
     "metadata": {
      "needs_background": "light"
     },
     "output_type": "display_data"
    }
   ],
   "source": [
    "for idx,data in enumerate(test_loader,1):\n",
    "    image,label, filename = data[\"image\"],data[\"label\"], data[\"file_name\"]\n",
    "    print(filename)\n",
    "#     print(image[0].shape)\n",
    "#     plt.imshow(np.transpose(image[1],(1,2,0)))\n",
    "    plt.imshow(np.transpose(image[1],(1,2,0)))\n",
    "#     plt.imshow(image[0])\n",
    "    if idx == 5:\n",
    "        break"
   ]
  },
  {
   "cell_type": "code",
   "execution_count": 255,
   "metadata": {},
   "outputs": [
    {
     "data": {
      "text/plain": [
       "tensor(0.5309)"
      ]
     },
     "execution_count": 255,
     "metadata": {},
     "output_type": "execute_result"
    }
   ],
   "source": [
    "image[0].std()"
   ]
  },
  {
   "cell_type": "code",
   "execution_count": 272,
   "metadata": {},
   "outputs": [
    {
     "data": {
      "text/plain": [
       "tensor([ 2.2489,  2.2489,  2.2489,  2.2147,  2.0434,  1.8893,  1.8722,  1.8379,\n",
       "         1.8208,  1.5639,  0.7762, -1.1247, -1.6213, -1.5528, -1.5528, -1.6042,\n",
       "        -1.6213, -1.6213, -1.6384, -1.6555, -1.6727, -1.6898, -1.7240, -1.7240,\n",
       "        -1.7240, -1.7240, -1.7240, -1.7240, -1.7240, -1.7069, -1.7069, -1.6898,\n",
       "        -1.7069, -1.7240, -1.7069, -1.7412, -1.7412, -1.7412, -1.7412, -1.7412,\n",
       "        -1.7583, -1.7583, -1.7925, -1.7754, -1.7754, -1.7412, -0.7822,  1.4612,\n",
       "         1.5982,  1.6495,  1.6495,  1.6495,  1.6495,  1.6495,  1.6495,  1.6324,\n",
       "         1.6324,  1.6324,  1.6324,  1.6324,  1.6324,  1.6324,  1.6324,  1.6495,\n",
       "         1.6495,  1.6495,  1.6153,  1.6153,  1.5297,  1.5639,  0.4851, -1.6384,\n",
       "        -1.7925, -1.8097, -1.8097, -1.8097, -1.8097, -1.7925, -1.8268, -1.8439,\n",
       "        -1.8610, -1.8782, -1.8610, -1.8610, -1.8610, -1.8439, -1.8439, -1.8610,\n",
       "        -1.8439, -1.8439, -1.8439, -1.8439, -1.8439, -1.8097, -1.8268, -1.7925,\n",
       "        -1.8268, -1.8268, -1.8268, -1.7583, -1.7583, -1.7412, -1.7412, -1.7583,\n",
       "        -1.7240,  0.5022,  1.5297,  1.4954,  1.5982,  1.6153,  1.6153,  1.6153,\n",
       "         1.6153,  1.6153,  1.6324,  1.6324,  1.6324,  1.6324,  1.6495,  1.6667,\n",
       "         1.7009,  1.6838,  1.6838,  1.7009,  1.7180,  1.7523,  1.7523,  1.7865,\n",
       "         1.7865,  1.7865,  1.8208,  1.8208,  1.8379,  1.8722,  1.8722,  1.8722,\n",
       "         1.8208,  1.5468,  1.6153,  1.8208,  1.4954, -0.5424, -1.5185, -1.5528,\n",
       "        -1.4672,  0.0056,  1.8550,  1.8379,  1.8893,  2.0263,  2.0092,  2.0263,\n",
       "         2.0434,  2.0092,  2.0092,  1.9920,  1.9920,  1.9749,  1.9920,  1.9920,\n",
       "         1.9749,  1.9749,  1.9749,  2.0263,  2.0263,  2.0263,  2.0434,  2.0434,\n",
       "         2.0263,  2.0605,  2.0948,  2.0263,  1.7523,  1.8550,  0.6734, -1.3815,\n",
       "        -1.5699, -1.5528, -1.5699, -1.6042, -1.6384, -1.6384, -1.6384, -1.6213,\n",
       "        -1.6042, -1.6384, -1.6213, -1.5870, -1.5870, -1.5699, -1.5699, -1.5699,\n",
       "        -1.5528, -1.5185, -1.5185, -1.5357, -1.5699, -1.7240, -1.8610, -1.8439,\n",
       "        -1.7925, -1.8097, -1.7240, -1.6213, -1.6727, -1.7925, -1.7069, -1.5528,\n",
       "        -1.5528, -1.6555, -1.5185, -1.4500, -1.4158, -1.3987, -1.5014, -1.3473,\n",
       "        -1.2788, -1.2103, -1.2274, -1.3130, -1.2617, -1.2959, -1.1589, -1.1418,\n",
       "        -1.2788, -1.1932, -0.9534, -0.7137, -0.6623, -0.7137, -0.8164, -0.7479,\n",
       "        -0.7822, -0.6965, -0.6794, -0.3369,  0.9474,  2.0948,  2.2318,  2.2489,\n",
       "         2.2489,  2.2489,  2.2489,  2.2489,  2.2489,  2.2489,  2.2489,  2.2489,\n",
       "         2.2489,  2.2489,  2.2489,  2.2489,  2.2489,  2.2489,  2.2489,  2.2489,\n",
       "         2.2489,  2.2489,  2.2489,  2.2489,  2.2489,  2.2489,  2.2489,  2.2489,\n",
       "         2.2489,  2.2489,  2.2489,  2.2489,  2.2489,  2.2489,  2.2489,  2.2489,\n",
       "         2.2489,  2.2489,  2.2489,  2.2489,  2.2489,  2.2489,  2.2489,  2.2489,\n",
       "         2.2489,  2.2489,  2.2489,  2.2489,  2.2489,  2.2489,  2.2489,  2.2489,\n",
       "         2.2489,  2.2489,  2.2489,  2.2489,  2.2489,  2.2489,  2.2489,  2.2489,\n",
       "         2.2489,  2.2489,  2.2489,  2.2489])"
      ]
     },
     "execution_count": 272,
     "metadata": {},
     "output_type": "execute_result"
    }
   ],
   "source": [
    "image[0][0][300]"
   ]
  },
  {
   "cell_type": "code",
   "execution_count": 14,
   "metadata": {},
   "outputs": [],
   "source": [
    "import matplotlib.pyplot as plt"
   ]
  },
  {
   "cell_type": "code",
   "execution_count": 6,
   "metadata": {},
   "outputs": [],
   "source": [
    "transforms = torchvision.transforms.Compose([\n",
    "    torchvision.transforms.RandomPerspective(p = 0.3), # randomly change img perspective\n",
    "    torchvision.transforms.,\n",
    "    \n",
    "    torchvision.transforms.ToTensor(),\n",
    "    torchvision.transforms.Normalize(mean=[0.485, 0.456, 0.406],\n",
    "                                     std=[0.229, 0.224, 0.225]),\n",
    "])"
   ]
  },
  {
   "cell_type": "code",
   "execution_count": null,
   "metadata": {},
   "outputs": [],
   "source": [
    "for i in samples_df"
   ]
  }
 ],
 "metadata": {
  "kernelspec": {
   "display_name": "Python 3",
   "language": "python",
   "name": "python3"
  },
  "language_info": {
   "codemirror_mode": {
    "name": "ipython",
    "version": 3
   },
   "file_extension": ".py",
   "mimetype": "text/x-python",
   "name": "python",
   "nbconvert_exporter": "python",
   "pygments_lexer": "ipython3",
   "version": "3.6.7"
  }
 },
 "nbformat": 4,
 "nbformat_minor": 4
}
