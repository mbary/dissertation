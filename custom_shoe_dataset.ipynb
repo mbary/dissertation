{
 "cells": [
  {
   "cell_type": "code",
   "execution_count": 2,
   "metadata": {},
   "outputs": [],
   "source": [
    "import os\n",
    "import torch\n",
    "import torchvision\n",
    "from skimage import io\n",
    "from PIL import Image\n",
    "import numpy as np\n",
    "\n",
    "from torch.utils.data import DataLoader, Dataset\n",
    "\n",
    "# from database_functions.databasereader import DatabaseReader"
   ]
  },
  {
   "cell_type": "code",
   "execution_count": 48,
   "metadata": {},
   "outputs": [],
   "source": [
    "db_reader = DatabaseReader('crepcheque')\n",
    "\n",
    "get_images_query = \"\"\"SELECT\n",
    "                            r.crep_id,\n",
    "                            r.raw_brand_text,\n",
    "                            i.image_id,\n",
    "                            i.image_type,\n",
    "                            i.image_file_path\n",
    "                        FROM raw_creps r\n",
    "                        LEFT JOIN\n",
    "                            images i\n",
    "                            ON r.crep_id = i.crep_id\n",
    "\n",
    "                        WHERE\n",
    "                            r.images IS NOT NULL\n",
    "                            AND r.images_processed IS NOT NULL\n",
    "                            AND i.image_downloaded = true\n",
    "                        \"\"\"\n",
    "\n",
    "samples_df = db_reader.send_query(query=get_images_query, return_as_df=True)"
   ]
  },
  {
   "cell_type": "code",
   "execution_count": 49,
   "metadata": {
    "scrolled": true
   },
   "outputs": [
    {
     "data": {
      "text/html": [
       "<div>\n",
       "<style scoped>\n",
       "    .dataframe tbody tr th:only-of-type {\n",
       "        vertical-align: middle;\n",
       "    }\n",
       "\n",
       "    .dataframe tbody tr th {\n",
       "        vertical-align: top;\n",
       "    }\n",
       "\n",
       "    .dataframe thead th {\n",
       "        text-align: right;\n",
       "    }\n",
       "</style>\n",
       "<table border=\"1\" class=\"dataframe\">\n",
       "  <thead>\n",
       "    <tr style=\"text-align: right;\">\n",
       "      <th></th>\n",
       "      <th>crep_id</th>\n",
       "      <th>raw_brand_text</th>\n",
       "      <th>image_id</th>\n",
       "      <th>image_type</th>\n",
       "      <th>image_file_path</th>\n",
       "    </tr>\n",
       "  </thead>\n",
       "  <tbody>\n",
       "    <tr>\n",
       "      <th>0</th>\n",
       "      <td>16929</td>\n",
       "      <td>Nike</td>\n",
       "      <td>172179</td>\n",
       "      <td>Additional</td>\n",
       "      <td>/home/max/hdd-data1/images/original/16929-1721...</td>\n",
       "    </tr>\n",
       "    <tr>\n",
       "      <th>1</th>\n",
       "      <td>16915</td>\n",
       "      <td>Jordan</td>\n",
       "      <td>172161</td>\n",
       "      <td>Additional</td>\n",
       "      <td>/home/max/hdd-data1/images/original/16915-1721...</td>\n",
       "    </tr>\n",
       "    <tr>\n",
       "      <th>2</th>\n",
       "      <td>16915</td>\n",
       "      <td>Jordan</td>\n",
       "      <td>172165</td>\n",
       "      <td>Additional</td>\n",
       "      <td>/home/max/hdd-data1/images/original/16915-1721...</td>\n",
       "    </tr>\n",
       "    <tr>\n",
       "      <th>3</th>\n",
       "      <td>16915</td>\n",
       "      <td>Jordan</td>\n",
       "      <td>172169</td>\n",
       "      <td>Additional</td>\n",
       "      <td>/home/max/hdd-data1/images/original/16915-1721...</td>\n",
       "    </tr>\n",
       "    <tr>\n",
       "      <th>4</th>\n",
       "      <td>16915</td>\n",
       "      <td>Jordan</td>\n",
       "      <td>172173</td>\n",
       "      <td>Additional</td>\n",
       "      <td>/home/max/hdd-data1/images/original/16915-1721...</td>\n",
       "    </tr>\n",
       "  </tbody>\n",
       "</table>\n",
       "</div>"
      ],
      "text/plain": [
       "   crep_id raw_brand_text  image_id  image_type  \\\n",
       "0    16929           Nike    172179  Additional   \n",
       "1    16915         Jordan    172161  Additional   \n",
       "2    16915         Jordan    172165  Additional   \n",
       "3    16915         Jordan    172169  Additional   \n",
       "4    16915         Jordan    172173  Additional   \n",
       "\n",
       "                                     image_file_path  \n",
       "0  /home/max/hdd-data1/images/original/16929-1721...  \n",
       "1  /home/max/hdd-data1/images/original/16915-1721...  \n",
       "2  /home/max/hdd-data1/images/original/16915-1721...  \n",
       "3  /home/max/hdd-data1/images/original/16915-1721...  \n",
       "4  /home/max/hdd-data1/images/original/16915-1721...  "
      ]
     },
     "execution_count": 49,
     "metadata": {},
     "output_type": "execute_result"
    }
   ],
   "source": [
    "samples_df.head()"
   ]
  },
  {
   "cell_type": "code",
   "execution_count": 3,
   "metadata": {},
   "outputs": [],
   "source": [
    "img_names = [\"../dissertation_old/data/barry_data/\" + filename for filename in os.listdir(\"../dissertation_old/data/barry_data/\")[:20]]\n"
   ]
  },
  {
   "cell_type": "code",
   "execution_count": 4,
   "metadata": {},
   "outputs": [],
   "source": [
    "import pandas as pd"
   ]
  },
  {
   "cell_type": "code",
   "execution_count": 5,
   "metadata": {},
   "outputs": [],
   "source": [
    "test_df = pd.DataFrame([img_names, [i for i in range(20)]]).T\n",
    "test_df.columns = [\"img_name\",\"label\"]"
   ]
  },
  {
   "cell_type": "code",
   "execution_count": 6,
   "metadata": {},
   "outputs": [
    {
     "data": {
      "text/html": [
       "<div>\n",
       "<style scoped>\n",
       "    .dataframe tbody tr th:only-of-type {\n",
       "        vertical-align: middle;\n",
       "    }\n",
       "\n",
       "    .dataframe tbody tr th {\n",
       "        vertical-align: top;\n",
       "    }\n",
       "\n",
       "    .dataframe thead th {\n",
       "        text-align: right;\n",
       "    }\n",
       "</style>\n",
       "<table border=\"1\" class=\"dataframe\">\n",
       "  <thead>\n",
       "    <tr style=\"text-align: right;\">\n",
       "      <th></th>\n",
       "      <th>img_name</th>\n",
       "      <th>label</th>\n",
       "    </tr>\n",
       "  </thead>\n",
       "  <tbody>\n",
       "    <tr>\n",
       "      <th>0</th>\n",
       "      <td>../dissertation_old/data/barry_data/4998712246...</td>\n",
       "      <td>0</td>\n",
       "    </tr>\n",
       "    <tr>\n",
       "      <th>1</th>\n",
       "      <td>../dissertation_old/data/barry_data/5004371187...</td>\n",
       "      <td>1</td>\n",
       "    </tr>\n",
       "    <tr>\n",
       "      <th>2</th>\n",
       "      <td>../dissertation_old/data/barry_data/5006149251...</td>\n",
       "      <td>2</td>\n",
       "    </tr>\n",
       "    <tr>\n",
       "      <th>3</th>\n",
       "      <td>../dissertation_old/data/barry_data/5000207037...</td>\n",
       "      <td>3</td>\n",
       "    </tr>\n",
       "    <tr>\n",
       "      <th>4</th>\n",
       "      <td>../dissertation_old/data/barry_data/5000520416...</td>\n",
       "      <td>4</td>\n",
       "    </tr>\n",
       "    <tr>\n",
       "      <th>5</th>\n",
       "      <td>../dissertation_old/data/barry_data/4999285299...</td>\n",
       "      <td>5</td>\n",
       "    </tr>\n",
       "    <tr>\n",
       "      <th>6</th>\n",
       "      <td>../dissertation_old/data/barry_data/4996728786...</td>\n",
       "      <td>6</td>\n",
       "    </tr>\n",
       "    <tr>\n",
       "      <th>7</th>\n",
       "      <td>../dissertation_old/data/barry_data/4614247446...</td>\n",
       "      <td>7</td>\n",
       "    </tr>\n",
       "    <tr>\n",
       "      <th>8</th>\n",
       "      <td>../dissertation_old/data/barry_data/3146339404...</td>\n",
       "      <td>8</td>\n",
       "    </tr>\n",
       "    <tr>\n",
       "      <th>9</th>\n",
       "      <td>../dissertation_old/data/barry_data/4720688927...</td>\n",
       "      <td>9</td>\n",
       "    </tr>\n",
       "    <tr>\n",
       "      <th>10</th>\n",
       "      <td>../dissertation_old/data/barry_data/4981662677...</td>\n",
       "      <td>10</td>\n",
       "    </tr>\n",
       "    <tr>\n",
       "      <th>11</th>\n",
       "      <td>../dissertation_old/data/barry_data/4993609603...</td>\n",
       "      <td>11</td>\n",
       "    </tr>\n",
       "    <tr>\n",
       "      <th>12</th>\n",
       "      <td>../dissertation_old/data/barry_data/4876699428...</td>\n",
       "      <td>12</td>\n",
       "    </tr>\n",
       "    <tr>\n",
       "      <th>13</th>\n",
       "      <td>../dissertation_old/data/barry_data/5005608938...</td>\n",
       "      <td>13</td>\n",
       "    </tr>\n",
       "    <tr>\n",
       "      <th>14</th>\n",
       "      <td>../dissertation_old/data/barry_data/5006109376...</td>\n",
       "      <td>14</td>\n",
       "    </tr>\n",
       "    <tr>\n",
       "      <th>15</th>\n",
       "      <td>../dissertation_old/data/barry_data/4979733951...</td>\n",
       "      <td>15</td>\n",
       "    </tr>\n",
       "    <tr>\n",
       "      <th>16</th>\n",
       "      <td>../dissertation_old/data/barry_data/4629888853...</td>\n",
       "      <td>16</td>\n",
       "    </tr>\n",
       "    <tr>\n",
       "      <th>17</th>\n",
       "      <td>../dissertation_old/data/barry_data/4950759149...</td>\n",
       "      <td>17</td>\n",
       "    </tr>\n",
       "    <tr>\n",
       "      <th>18</th>\n",
       "      <td>../dissertation_old/data/barry_data/5004350788...</td>\n",
       "      <td>18</td>\n",
       "    </tr>\n",
       "    <tr>\n",
       "      <th>19</th>\n",
       "      <td>../dissertation_old/data/barry_data/4990996760...</td>\n",
       "      <td>19</td>\n",
       "    </tr>\n",
       "  </tbody>\n",
       "</table>\n",
       "</div>"
      ],
      "text/plain": [
       "                                             img_name label\n",
       "0   ../dissertation_old/data/barry_data/4998712246...     0\n",
       "1   ../dissertation_old/data/barry_data/5004371187...     1\n",
       "2   ../dissertation_old/data/barry_data/5006149251...     2\n",
       "3   ../dissertation_old/data/barry_data/5000207037...     3\n",
       "4   ../dissertation_old/data/barry_data/5000520416...     4\n",
       "5   ../dissertation_old/data/barry_data/4999285299...     5\n",
       "6   ../dissertation_old/data/barry_data/4996728786...     6\n",
       "7   ../dissertation_old/data/barry_data/4614247446...     7\n",
       "8   ../dissertation_old/data/barry_data/3146339404...     8\n",
       "9   ../dissertation_old/data/barry_data/4720688927...     9\n",
       "10  ../dissertation_old/data/barry_data/4981662677...    10\n",
       "11  ../dissertation_old/data/barry_data/4993609603...    11\n",
       "12  ../dissertation_old/data/barry_data/4876699428...    12\n",
       "13  ../dissertation_old/data/barry_data/5005608938...    13\n",
       "14  ../dissertation_old/data/barry_data/5006109376...    14\n",
       "15  ../dissertation_old/data/barry_data/4979733951...    15\n",
       "16  ../dissertation_old/data/barry_data/4629888853...    16\n",
       "17  ../dissertation_old/data/barry_data/4950759149...    17\n",
       "18  ../dissertation_old/data/barry_data/5004350788...    18\n",
       "19  ../dissertation_old/data/barry_data/4990996760...    19"
      ]
     },
     "execution_count": 6,
     "metadata": {},
     "output_type": "execute_result"
    }
   ],
   "source": [
    "test_df"
   ]
  },
  {
   "cell_type": "code",
   "execution_count": 273,
   "metadata": {},
   "outputs": [],
   "source": [
    "class ShoeDataSet(Dataset):\n",
    "    \n",
    "    def __init__(self, data_df,transform = None):\n",
    "        \n",
    "        self.data_df = data_df\n",
    "        self.transform = transform\n",
    "    \n",
    "    def __len__(self):\n",
    "        return len(self.data_df)\n",
    "    \n",
    "    def __getitem__(self, idx):\n",
    "        \n",
    "        if torch.is_tensor(idx):\n",
    "            idx = idx.tolist()\n",
    "    \n",
    "        \n",
    "        img_name = self.data_df.iloc[idx, 0] \n",
    "\n",
    "        image = Image.open(img_name)\n",
    "        print(\"PIL size\", image.size)\n",
    "        arr_img = np.array(image)\n",
    "        print(\"np size\", arr_img.shape)\n",
    "        label = self.data_df.iloc[idx, 1]\n",
    "\n",
    "        \n",
    "        sample  ={\"image\":image, \"label\":label}\n",
    "\n",
    "        \n",
    "        if self.transform:\n",
    "            image,label = sample[\"image\"],sample[\"label\"]\n",
    "            image = self.transform(image)\n",
    "        image = np.array(image)\n",
    "        print(\"last arr shape\", image.shape)\n",
    "        sample = {\"image\":image, \"label\":label, \"file_name\":img_name}\n",
    "\n",
    "        return sample\n",
    "        "
   ]
  },
  {
   "cell_type": "code",
   "execution_count": 189,
   "metadata": {},
   "outputs": [],
   "source": [
    "\"\"\"\n",
    "1) transorms\n",
    "2) totensor\n",
    "3) normalize\n",
    "4) scale\n",
    "\n",
    "\"\"\";"
   ]
  },
  {
   "cell_type": "code",
   "execution_count": null,
   "metadata": {},
   "outputs": [],
   "source": []
  },
  {
   "cell_type": "code",
   "execution_count": 274,
   "metadata": {},
   "outputs": [],
   "source": [
    "\"\"\"\n",
    "\n",
    "CALCULATE DATASET MEAN AND STD\n",
    "\n",
    "\"\"\"\n",
    "\n",
    "trans = transforms.Compose([\n",
    "    transforms.Resize((500,300)),\n",
    "    transforms.ToTensor(),\n",
    "\n",
    "#     torchvision.transforms.Normalize()\n",
    "])"
   ]
  },
  {
   "cell_type": "code",
   "execution_count": 275,
   "metadata": {},
   "outputs": [],
   "source": [
    "shoe_set = ShoeDataSet(test_df, transform=trans)"
   ]
  },
  {
   "cell_type": "code",
   "execution_count": 276,
   "metadata": {},
   "outputs": [],
   "source": [
    "test_loader = DataLoader(shoe_set, shuffle=True, batch_size = 2)"
   ]
  },
  {
   "cell_type": "code",
   "execution_count": 279,
   "metadata": {
    "scrolled": true
   },
   "outputs": [
    {
     "name": "stdout",
     "output_type": "stream",
     "text": [
      "PIL size (1023, 682)\n",
      "np size (682, 1023, 3)\n",
      "last arr shape (3, 500, 300)\n",
      "PIL size (1024, 655)\n",
      "np size (655, 1024, 3)\n",
      "last arr shape (3, 500, 300)\n",
      "['../dissertation_old/data/barry_data/49987122466.jpg', '../dissertation_old/data/barry_data/50056089383.jpg']\n"
     ]
    },
    {
     "data": {
      "image/png": "[encoded data removed]",
      "text/plain": [
       "<Figure size 432x288 with 1 Axes>"
      ]
     },
     "metadata": {},
     "output_type": "display_data"
    }
   ],
   "source": [
    "for idx,data in enumerate(test_loader,1):\n",
    "    image,label, filename = data[\"image\"],data[\"label\"], data[\"file_name\"]\n",
    "    print(filename)\n",
    "#     print(image[0].shape)\n",
    "#     plt.imshow(np.transpose(image[1],(1,2,0)))\n",
    "    plt.imshow(np.transpose(image[1],(1,2,0)))\n",
    "#     plt.imshow(image[0])\n",
    "    if idx == 1:\n",
    "        break"
   ]
  },
  {
   "cell_type": "code",
   "execution_count": 255,
   "metadata": {},
   "outputs": [
    {
     "data": {
      "text/plain": [
       "tensor(0.5309)"
      ]
     },
     "execution_count": 255,
     "metadata": {},
     "output_type": "execute_result"
    }
   ],
   "source": [
    "image[0].std()"
   ]
  },
  {
   "cell_type": "code",
   "execution_count": 272,
   "metadata": {},
   "outputs": [
    {
     "data": {
      "text/plain": [
       "tensor([ 2.2489,  2.2489,  2.2489,  2.2147,  2.0434,  1.8893,  1.8722,  1.8379,\n",
       "         1.8208,  1.5639,  0.7762, -1.1247, -1.6213, -1.5528, -1.5528, -1.6042,\n",
       "        -1.6213, -1.6213, -1.6384, -1.6555, -1.6727, -1.6898, -1.7240, -1.7240,\n",
       "        -1.7240, -1.7240, -1.7240, -1.7240, -1.7240, -1.7069, -1.7069, -1.6898,\n",
       "        -1.7069, -1.7240, -1.7069, -1.7412, -1.7412, -1.7412, -1.7412, -1.7412,\n",
       "        -1.7583, -1.7583, -1.7925, -1.7754, -1.7754, -1.7412, -0.7822,  1.4612,\n",
       "         1.5982,  1.6495,  1.6495,  1.6495,  1.6495,  1.6495,  1.6495,  1.6324,\n",
       "         1.6324,  1.6324,  1.6324,  1.6324,  1.6324,  1.6324,  1.6324,  1.6495,\n",
       "         1.6495,  1.6495,  1.6153,  1.6153,  1.5297,  1.5639,  0.4851, -1.6384,\n",
       "        -1.7925, -1.8097, -1.8097, -1.8097, -1.8097, -1.7925, -1.8268, -1.8439,\n",
       "        -1.8610, -1.8782, -1.8610, -1.8610, -1.8610, -1.8439, -1.8439, -1.8610,\n",
       "        -1.8439, -1.8439, -1.8439, -1.8439, -1.8439, -1.8097, -1.8268, -1.7925,\n",
       "        -1.8268, -1.8268, -1.8268, -1.7583, -1.7583, -1.7412, -1.7412, -1.7583,\n",
       "        -1.7240,  0.5022,  1.5297,  1.4954,  1.5982,  1.6153,  1.6153,  1.6153,\n",
       "         1.6153,  1.6153,  1.6324,  1.6324,  1.6324,  1.6324,  1.6495,  1.6667,\n",
       "         1.7009,  1.6838,  1.6838,  1.7009,  1.7180,  1.7523,  1.7523,  1.7865,\n",
       "         1.7865,  1.7865,  1.8208,  1.8208,  1.8379,  1.8722,  1.8722,  1.8722,\n",
       "         1.8208,  1.5468,  1.6153,  1.8208,  1.4954, -0.5424, -1.5185, -1.5528,\n",
       "        -1.4672,  0.0056,  1.8550,  1.8379,  1.8893,  2.0263,  2.0092,  2.0263,\n",
       "         2.0434,  2.0092,  2.0092,  1.9920,  1.9920,  1.9749,  1.9920,  1.9920,\n",
       "         1.9749,  1.9749,  1.9749,  2.0263,  2.0263,  2.0263,  2.0434,  2.0434,\n",
       "         2.0263,  2.0605,  2.0948,  2.0263,  1.7523,  1.8550,  0.6734, -1.3815,\n",
       "        -1.5699, -1.5528, -1.5699, -1.6042, -1.6384, -1.6384, -1.6384, -1.6213,\n",
       "        -1.6042, -1.6384, -1.6213, -1.5870, -1.5870, -1.5699, -1.5699, -1.5699,\n",
       "        -1.5528, -1.5185, -1.5185, -1.5357, -1.5699, -1.7240, -1.8610, -1.8439,\n",
       "        -1.7925, -1.8097, -1.7240, -1.6213, -1.6727, -1.7925, -1.7069, -1.5528,\n",
       "        -1.5528, -1.6555, -1.5185, -1.4500, -1.4158, -1.3987, -1.5014, -1.3473,\n",
       "        -1.2788, -1.2103, -1.2274, -1.3130, -1.2617, -1.2959, -1.1589, -1.1418,\n",
       "        -1.2788, -1.1932, -0.9534, -0.7137, -0.6623, -0.7137, -0.8164, -0.7479,\n",
       "        -0.7822, -0.6965, -0.6794, -0.3369,  0.9474,  2.0948,  2.2318,  2.2489,\n",
       "         2.2489,  2.2489,  2.2489,  2.2489,  2.2489,  2.2489,  2.2489,  2.2489,\n",
       "         2.2489,  2.2489,  2.2489,  2.2489,  2.2489,  2.2489,  2.2489,  2.2489,\n",
       "         2.2489,  2.2489,  2.2489,  2.2489,  2.2489,  2.2489,  2.2489,  2.2489,\n",
       "         2.2489,  2.2489,  2.2489,  2.2489,  2.2489,  2.2489,  2.2489,  2.2489,\n",
       "         2.2489,  2.2489,  2.2489,  2.2489,  2.2489,  2.2489,  2.2489,  2.2489,\n",
       "         2.2489,  2.2489,  2.2489,  2.2489,  2.2489,  2.2489,  2.2489,  2.2489,\n",
       "         2.2489,  2.2489,  2.2489,  2.2489,  2.2489,  2.2489,  2.2489,  2.2489,\n",
       "         2.2489,  2.2489,  2.2489,  2.2489])"
      ]
     },
     "execution_count": 272,
     "metadata": {},
     "output_type": "execute_result"
    }
   ],
   "source": [
    "image[0][0][300]"
   ]
  },
  {
   "cell_type": "code",
   "execution_count": 14,
   "metadata": {},
   "outputs": [],
   "source": [
    "import matplotlib.pyplot as plt"
   ]
  },
  {
   "cell_type": "code",
   "execution_count": 6,
   "metadata": {},
   "outputs": [],
   "source": [
    "transforms = torchvision.transforms.Compose([\n",
    "    torchvision.transforms.RandomPerspective(p = 0.3), # randomly change img perspective\n",
    "    torchvision.transforms.,\n",
    "    \n",
    "    torchvision.transforms.ToTensor(),\n",
    "    torchvision.transforms.Normalize(mean=[0.485, 0.456, 0.406],\n",
    "                                     std=[0.229, 0.224, 0.225]),\n",
    "])"
   ]
  },
  {
   "cell_type": "code",
   "execution_count": null,
   "metadata": {},
   "outputs": [],
   "source": [
    "for i in samples_df"
   ]
  }
 ],
 "metadata": {
  "kernelspec": {
   "display_name": "Python 3",
   "language": "python",
   "name": "python3"
  },
  "language_info": {
   "codemirror_mode": {
    "name": "ipython",
    "version": 3
   },
   "file_extension": ".py",
   "mimetype": "text/x-python",
   "name": "python",
   "nbconvert_exporter": "python",
   "pygments_lexer": "ipython3",
   "version": "3.6.7"
  }
 },
 "nbformat": 4,
 "nbformat_minor": 4
}
