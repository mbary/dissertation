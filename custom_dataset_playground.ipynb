{
 "cells": [
  {
   "cell_type": "code",
   "execution_count": 1,
   "metadata": {},
   "outputs": [],
   "source": [
    "import os\n",
    "import torch\n",
    "import torchvision\n",
    "from skimage import io\n",
    "from PIL import Image\n",
    "import numpy as np"
   ]
  },
  {
   "cell_type": "code",
   "execution_count": null,
   "metadata": {},
   "outputs": [],
   "source": [
    "\n",
    "\n",
    "from torch.utils.data import DataLoader, Dataset\n",
    "\n",
    "\n",
    "class ShoeDataSet(Dataset):\n",
    "    \n",
    "    def __init__(self, data_df,transform = None):\n",
    "        \n",
    "        self.data_df = data_df\n",
    "        self.transform = transform\n",
    "    \n",
    "    def __len__(self):\n",
    "        return len(self.data_df)\n",
    "    \n",
    "    def __getitem__(self, idx):\n",
    "        \n",
    "        if torch.is_tensor(idx):\n",
    "            idx = idx.tolist()\n",
    "    \n",
    "        \n",
    "        img_name = self.data_df.iloc[idx, 0] \n",
    "\n",
    "        image = Image.open(img_name)\n",
    "        print(\"PIL size\", image.size)\n",
    "        arr_img = np.array(image)\n",
    "        print(\"np size\", arr_img.shape)\n",
    "        label = self.data_df.iloc[idx, 1]\n",
    "\n",
    "        \n",
    "        sample  ={\"image\":image, \"label\":label}\n",
    "\n",
    "        \n",
    "        if self.transform:\n",
    "            image,label = sample[\"image\"],sample[\"label\"]\n",
    "            image = self.transform(image)\n",
    "        image = np.array(image)\n",
    "        print(\"last arr shape\", image.shape)\n",
    "        sample = {\"image\":image, \"label\":label}\n",
    "\n",
    "        return sample\n",
    "        \n",
    "        \n",
    "        \n",
    "transforms_train = torchvision.transforms.Compose([\n",
    "    \n",
    "    torchvision.transforms.RandomPerspective(p = 0.4), # randomly change img perspective\n",
    "    torchvision.transforms.RandomHorizontalFlip(p = 0.2),\n",
    "    torchvision.transforms.Resize((300,300)),\n",
    "    torchvision.transforms.ToTensor(),\n",
    "    torchvision.transforms.Normalize((0.5,0.5,0.5,),(0.5,0.5,0.5)),\n",
    "])\n",
    "\n",
    "transforms_valid = torchvision.transforms.Compose([\n",
    "    torchvision.transforms.Resize((300,300)),\n",
    "    torchvision.transforms.ToTensor(),\n",
    "    torchvision.transforms.Normalize((0.5,0.5,0.5,),(0.5,0.5,0.5))\n",
    "])"
   ]
  }
 ],
 "metadata": {
  "kernelspec": {
   "display_name": "Python 3",
   "language": "python",
   "name": "python3"
  },
  "language_info": {
   "codemirror_mode": {
    "name": "ipython",
    "version": 3
   },
   "file_extension": ".py",
   "mimetype": "text/x-python",
   "name": "python",
   "nbconvert_exporter": "python",
   "pygments_lexer": "ipython3",
   "version": "3.6.7"
  }
 },
 "nbformat": 4,
 "nbformat_minor": 2
}
